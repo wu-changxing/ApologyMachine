{
 "cells": [
  {
   "cell_type": "code",
   "execution_count": 14,
   "metadata": {},
   "outputs": [],
   "source": [
    "import subprocess\n",
    "import platform\n",
    "\n",
    "def get_wifi_networks():\n",
    "    os_type = platform.system()\n",
    "\n",
    "    if os_type == \"Windows\":\n",
    "        # Windows system to get the WiFi network list command\n",
    "        command = [\"netsh\", \"wlan\", \"show\", \"network\"]\n",
    "    elif os_type == \"Darwin\":\n",
    "        # macOS system to get the WiFi network list command\n",
    "        command = \"/System/Library/PrivateFrameworks/Apple80211.framework/Versions/A/Resources/airport -s\"\n",
    "    elif os_type == \"Linux\":\n",
    "        # Linux system to get the WiFi network list command\n",
    "        command = \"nmcli dev wifi\"\n",
    "    else:\n",
    "        print(\"Unsupported Operating System:\", os_type)\n",
    "        return\n",
    "\n",
    "    # execute command\n",
    "    result = subprocess.check_output(command, shell=True)\n",
    "    print(result)\n",
    "\n"
   ]
  },
  {
   "cell_type": "code",
   "execution_count": 12,
   "metadata": {},
   "outputs": [
    {
     "data": {
      "text/plain": [
       "b'                            SSID BSSID             RSSI CHANNEL HT CC SECURITY (auth/unicast/group)\\n            UNSW Village Tower 2                   -91  44      Y  -- NONE\\n                 Global_Students                   -90  132,+1  Y  -- RSN(802.1x/AES/AES) \\n                      UNSW Guest                   -89  36,+1   Y  -- NONE\\n            UNSW Village Tower 2                   -89  6       Y  -- NONE\\n               DWR-956-0A59_5GHz                   -89  44      Y  -- RSN(PSK/AES/AES) \\n                         eduroam                   -89  132,+1  Y  -- RSN(802.1x/AES/AES) \\n                      UNSW Guest                   -89  132,+1  Y  -- NONE\\n                         uniwide                   -87  161,-1  Y  -- RSN(802.1x/AES/AES) \\n                 Global_Students                   -86  36,+1   Y  -- RSN(802.1x/AES/AES) \\n                      UNSW Guest                   -86  6       Y  -- NONE\\n            UNSW Village Tower 2                   -86  40      Y  -- NONE\\n                 Global_Students                   -86  6       Y  -- RSN(802.1x/AES/AES) \\n                         eduroam                   -85  161,-1  Y  -- RSN(802.1x/AES/AES) \\n                         uniwide                   -85  36,+1   Y  -- RSN(802.1x/AES/AES) \\n                         eduroam                   -85  36,+1   Y  -- RSN(802.1x/AES/AES) \\n                      UNSW Guest                   -85  36,+1   Y  -- NONE\\n                         eduroam                   -85  6       Y  -- RSN(802.1x/AES/AES) \\n                      UNSW Guest                   -81  6       Y  -- NONE\\n                         eduroam                   -81  52,+1   Y  -- RSN(802.1x/AES/AES) \\n                      UNSW Guest                   -80  6       Y  -- NONE\\n                      UNSW Guest                   -80  11      Y  -- NONE\\n                 Global_Students                   -78  100,+1  Y  -- RSN(802.1x/AES/AES) \\n                         eduroam                   -78  100,+1  Y  -- RSN(802.1x/AES/AES) \\n                      UNSW Guest                   -78  100,+1  Y  -- NONE\\n                     Telstra04D8                   -77  11      Y  -- RSN(PSK/AES/AES) \\n                         uniwide                   -76  6       Y  -- RSN(802.1x/AES/AES) \\n                 Global_Students                   -76  6       Y  -- RSN(802.1x/AES/AES) \\n                         eduroam                   -76  6       Y  -- RSN(802.1x/AES/AES) \\n                      UNSW Guest                   -76  6       Y  -- NONE\\n                      UNSW Guest                   -75  149,+1  Y  -- NONE\\n                         uniwide                   -75  149,+1  Y  -- RSN(802.1x/AES/AES) \\n                 Global_Students                   -75  149,+1  Y  -- RSN(802.1x/AES/AES) \\n                         eduroam                   -75  149,+1  Y  -- RSN(802.1x/AES/AES) \\n                      UNSW Guest                   -75  6       Y  -- NONE\\n                         uniwide                   -73  108,+1  Y  -- RSN(802.1x/AES/AES) \\n                         eduroam                   -73  108,+1  Y  -- RSN(802.1x/AES/AES) \\n                      UNSW Guest                   -73  108,+1  Y  -- NONE\\n                         uniwide                   -72  6       Y  -- RSN(802.1x/AES/AES) \\n                         uniwide                   -72  48,-1   Y  -- RSN(802.1x/AES/AES) \\n                 Global_Students                   -72  48,-1   Y  -- RSN(802.1x/AES/AES) \\n                         eduroam                   -72  48,-1   Y  -- RSN(802.1x/AES/AES) \\n                      UNSW Guest                   -72  48,-1   Y  -- NONE\\n            UNSW Village Tower 2                   -72  11      Y  -- NONE\\n                         uniwide                   -72  64,-1   Y  -- RSN(802.1x/AES/AES) \\n                 Global_Students                   -72  64,-1   Y  -- RSN(802.1x/AES/AES) \\n                         eduroam                   -72  64,-1   Y  -- RSN(802.1x/AES/AES) \\n                 Global_Students                   -72  108,+1  Y  -- RSN(802.1x/AES/AES) \\n                 Global_Students                   -71  64,-1   Y  -- RSN(802.1x/AES/AES) \\n                      UNSW Guest                   -71  64,-1   Y  -- NONE\\n                      UNSW Guest                   -71  64,-1   Y  -- NONE\\n                         uniwide                   -70  161,-1  Y  -- RSN(802.1x/AES/AES) \\n                 Global_Students                   -70  161,-1  Y  -- RSN(802.1x/AES/AES) \\n                         eduroam                   -70  161,-1  Y  -- RSN(802.1x/AES/AES) \\n                      UNSW Guest                   -70  6       Y  -- NONE\\n                         eduroam                   -70  6       Y  -- RSN(802.1x/AES/AES) \\n                 Global_Students                   -70  100,+1  Y  -- RSN(802.1x/AES/AES) \\n                         eduroam                   -70  100,+1  Y  -- RSN(802.1x/AES/AES) \\n                         uniwide                   -70  100,+1  Y  -- RSN(802.1x/AES/AES) \\n                      UNSW Guest                   -70  100,+1  Y  -- NONE\\n                         uniwide                   -70  132,+1  Y  -- RSN(802.1x/AES/AES) \\n                 Global_Students                   -65  11      Y  -- RSN(802.1x/AES/AES) \\n                         eduroam                   -64  11      Y  -- RSN(802.1x/AES/AES) \\n                         eduroam                   -63  6       Y  -- RSN(802.1x/AES/AES) \\n                      UNSW Guest                   -63  6       Y  -- NONE\\n                         uniwide                   -63  11      Y  -- RSN(802.1x/AES/AES) \\n                      UNSW Guest                   -63  11      Y  -- NONE\\n                         uniwide                   -62  1       Y  -- RSN(802.1x/AES/AES) \\n                         eduroam                   -62  1       Y  -- RSN(802.1x/AES/AES) \\n                 Global_Students                   -62  6       Y  -- RSN(802.1x/AES/AES) \\n                         eduroam                   -62  11      Y  -- RSN(802.1x/AES/AES) \\n                      UNSW Guest                   -62  11      Y  -- NONE\\n                         eduroam                   -61  1       Y  -- RSN(802.1x/AES/AES) \\n                 Global_Students                   -61  11      Y  -- RSN(802.1x/AES/AES) \\n                         uniwide                   -59  11      Y  -- RSN(802.1x/AES/AES) \\n                 Global_Students                   -58  1       Y  -- RSN(802.1x/AES/AES) \\n                 Global_Students                   -56  6       Y  -- RSN(802.1x/AES/AES) \\n                      UNSW Guest                   -56  6       Y  -- NONE\\n                         uniwide                   -56  6       Y  -- RSN(802.1x/AES/AES) \\n                         eduroam                   -55  6       Y  -- RSN(802.1x/AES/AES) \\n                         eduroam                   -55  6       Y  -- RSN(802.1x/AES/AES) \\n                         uniwide                   -55  11      Y  -- RSN(802.1x/AES/AES) \\n                         uniwide                   -54  1       Y  -- RSN(802.1x/AES/AES) \\n                 Global_Students                   -54  1       Y  -- RSN(802.1x/AES/AES) \\n                      UNSW Guest                   -54  1       Y  -- NONE\\n                         eduroam                   -54  1       Y  -- RSN(802.1x/AES/AES) \\n                         uniwide                   -54  6       Y  -- RSN(802.1x/AES/AES) \\n                 Global_Students                   -54  6       Y  -- RSN(802.1x/AES/AES) \\n                      UNSW Guest                   -54  6       Y  -- NONE\\n                 Global_Students                   -54  11      Y  -- RSN(802.1x/AES/AES) \\n                         eduroam                   -54  11      Y  -- RSN(802.1x/AES/AES) \\n                      UNSW Guest                   -54  11      Y  -- NONE\\n                      UNSW Guest                   -53  1       Y  -- NONE\\n                         uniwide                   -52  1       Y  -- RSN(802.1x/AES/AES) \\n                 Global_Students                   -52  1       Y  -- RSN(802.1x/AES/AES) \\n                         eduroam                   -52  1       Y  -- RSN(802.1x/AES/AES) \\n                         uniwide                   -50  1       Y  -- RSN(802.1x/AES/AES) \\n                 Global_Students                   -50  1       Y  -- RSN(802.1x/AES/AES) \\n                      UNSW Guest                   -50  1       Y  -- NONE\\n                         eduroam                   -48  1       Y  -- RSN(802.1x/AES/AES) \\n                      UNSW Guest                   -69  161,-1  Y  -- NONE\\n                         uniwide                   -66  132,+1  Y  -- RSN(802.1x/AES/AES) \\n                 Global_Students                   -66  132,+1  Y  -- RSN(802.1x/AES/AES) \\n                         eduroam                   -66  132,+1  Y  -- RSN(802.1x/AES/AES) \\n                      UNSW Guest                   -66  132,+1  Y  -- NONE\\n                 Global_Students                   -65  132,+1  Y  -- RSN(802.1x/AES/AES) \\n                         eduroam                   -65  132,+1  Y  -- RSN(802.1x/AES/AES) \\n                      UNSW Guest                   -65  132,+1  Y  -- NONE\\n                 Global_Students                   -63  149,+1  Y  -- RSN(802.1x/AES/AES) \\n                         eduroam                   -63  149,+1  Y  -- RSN(802.1x/AES/AES) \\n                      UNSW Guest                   -63  149,+1  Y  -- NONE\\n                         uniwide                   -61  149,+1  Y  -- RSN(802.1x/AES/AES) \\n                         uniwide                   -61  132,+1  Y  -- RSN(802.1x/AES/AES) \\n                         uniwide                   -59  44,+1   Y  -- RSN(802.1x/AES/AES) \\n                 Global_Students                   -59  44,+1   Y  -- RSN(802.1x/AES/AES) \\n                         eduroam                   -59  44,+1   Y  -- RSN(802.1x/AES/AES) \\n                      UNSW Guest                   -59  44,+1   Y  -- NONE\\n                 Global_Students                   -57  64,-1   Y  -- RSN(802.1x/AES/AES) \\n                         eduroam                   -57  64,-1   Y  -- RSN(802.1x/AES/AES) \\n                      UNSW Guest                   -57  64,-1   Y  -- NONE\\n                         uniwide                   -56  64,-1   Y  -- RSN(802.1x/AES/AES) \\n                         uniwide                   -54  108,+1  Y  -- RSN(802.1x/AES/AES) \\n                 Global_Students                   -54  108,+1  Y  -- RSN(802.1x/AES/AES) \\n                      UNSW Guest                   -54  108,+1  Y  -- NONE\\n                         eduroam                   -54  108,+1  Y  -- RSN(802.1x/AES/AES) \\n                 Global_Students                   -39  165     Y  -- RSN(802.1x/AES/AES) \\n                      UNSW Guest                   -39  165     Y  -- NONE\\n                         eduroam                   -38  165     Y  -- RSN(802.1x/AES/AES) \\n                         uniwide                   -38  165     Y  -- RSN(802.1x/AES/AES) \\n'"
      ]
     },
     "execution_count": 12,
     "metadata": {},
     "output_type": "execute_result"
    }
   ],
   "source": [
    "os_type = platform.system()\n",
    "os_type\n",
    "command = \"/System/Library/PrivateFrameworks/Apple80211.framework/Versions/A/Resources/airport -s\"\n",
    "command\n",
    "result = subprocess.check_output(command, shell=True)\n",
    "result"
   ]
  },
  {
   "cell_type": "code",
   "execution_count": 2,
   "metadata": {},
   "outputs": [
    {
     "name": "stdout",
     "output_type": "stream",
     "text": [
      "WiFi Networks:\n"
     ]
    }
   ],
   "source": [
    "print(\"WiFi Networks:\")"
   ]
  },
  {
   "cell_type": "code",
   "execution_count": null,
   "metadata": {},
   "outputs": [],
   "source": [
    "    # decode the result\n",
    "    networks = result.decode('utf-8', errors=\"backslashreplace\")\n",
    "    networks"
   ]
  }
 ],
 "metadata": {
  "kernelspec": {
   "display_name": "hackathon_env",
   "language": "python",
   "name": "python3"
  },
  "language_info": {
   "codemirror_mode": {
    "name": "ipython",
    "version": 3
   },
   "file_extension": ".py",
   "mimetype": "text/x-python",
   "name": "python",
   "nbconvert_exporter": "python",
   "pygments_lexer": "ipython3",
   "version": "3.9.12"
  }
 },
 "nbformat": 4,
 "nbformat_minor": 2
}
